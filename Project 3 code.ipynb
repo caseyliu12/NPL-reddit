{
 "cells": [
  {
   "cell_type": "markdown",
   "id": "21008c1d",
   "metadata": {},
   "source": [
    "# Project 3: Web APIs & NLP"
   ]
  },
  {
   "cell_type": "markdown",
   "id": "53a246b1",
   "metadata": {},
   "source": [
    "## Problem Statement"
   ]
  },
  {
   "cell_type": "markdown",
   "id": "d367bd2c",
   "metadata": {},
   "source": [
    "In this project, I collect posts from two subreddits (r/boston and r/seattle) using Pushshift's API. The goal of this project is to classify posts from two different subreddits. I will create and compare two models: logistic regression model and random forest model.\n",
    "\n",
    "Our results may be useful for any reddit individual or business users to see what keywords/contents people are interested most from two cities. We also use sentiment analysis to check if people have postive or negative comments on Boston and Seattle. "
   ]
  },
  {
   "cell_type": "markdown",
   "id": "27ca5067",
   "metadata": {},
   "source": [
    "## Data Collection"
   ]
  },
  {
   "cell_type": "code",
   "execution_count": 302,
   "id": "47c449a3",
   "metadata": {},
   "outputs": [],
   "source": [
    "import requests\n",
    "import numpy as np\n",
    "import pandas as pd\n",
    "import matplotlib.pyplot as plt\n",
    "import seaborn as sns\n",
    "\n",
    "from sklearn.feature_extraction.text import CountVectorizer, TfidfVectorizer\n",
    "from sklearn.linear_model import LogisticRegression\n",
    "from sklearn.ensemble import RandomForestClassifier\n",
    "from sklearn.pipeline import Pipeline\n",
    "from sklearn.model_selection import train_test_split, cross_val_score, GridSearchCV\n",
    "from sklearn.metrics import plot_confusion_matrix\n",
    "\n",
    "from nltk.sentiment.vader import SentimentIntensityAnalyzer"
   ]
  },
  {
   "cell_type": "code",
   "execution_count": 242,
   "id": "448ae61a",
   "metadata": {},
   "outputs": [],
   "source": [
    "# Define function to scrape data\n",
    "def scrape_data(urls, num_req):\n",
    "    posts = []\n",
    "    for url in list(urls):\n",
    "        after = None\n",
    "        for i in list(range(num_req)):\n",
    "            if after == None:\n",
    "                params = {}\n",
    "            else:\n",
    "                params = {'after': after}\n",
    "            res  = requests.get(url, params = params, headers={'User-agent': 'Data Inc'})\n",
    "            if res.status_code == 200:\n",
    "                the_json = res.json()\n",
    "                posts.extend(the_json['data']['children'])\n",
    "                after = the_json['data']['after']\n",
    "            else:\n",
    "                print(res.status_code)\n",
    "                break\n",
    "    \n",
    "    subreddits, selftexts, titles = [], [], []\n",
    "    for i in range(len(posts)):\n",
    "        subreddits.append(posts[i]['data']['subreddit'])\n",
    "        selftexts.append(posts[i]['data']['selftext'])\n",
    "        titles.append(posts[i]['data']['title'])\n",
    "    return pd.DataFrame({'subreddit': subreddits, 'selftext': selftexts, 'title': titles})"
   ]
  },
  {
   "cell_type": "code",
   "execution_count": 243,
   "id": "29f78f91",
   "metadata": {},
   "outputs": [
    {
     "ename": "KeyboardInterrupt",
     "evalue": "",
     "output_type": "error",
     "traceback": [
      "\u001b[0;31m---------------------------------------------------------------------------\u001b[0m",
      "\u001b[0;31mKeyboardInterrupt\u001b[0m                         Traceback (most recent call last)",
      "\u001b[0;32m<ipython-input-243-f075316fedc2>\u001b[0m in \u001b[0;36m<module>\u001b[0;34m\u001b[0m\n\u001b[1;32m      1\u001b[0m \u001b[0;31m# Scrape posts from subreddits\u001b[0m\u001b[0;34m\u001b[0m\u001b[0;34m\u001b[0m\u001b[0;34m\u001b[0m\u001b[0m\n\u001b[0;32m----> 2\u001b[0;31m df = scrape_data([\n\u001b[0m\u001b[1;32m      3\u001b[0m     \u001b[0;34m'https://www.reddit.com/r/seattle.json'\u001b[0m\u001b[0;34m,\u001b[0m\u001b[0;34m\u001b[0m\u001b[0;34m\u001b[0m\u001b[0m\n\u001b[1;32m      4\u001b[0m     \u001b[0;34m'https://www.reddit.com/r/boston.json'\u001b[0m\u001b[0;34m\u001b[0m\u001b[0;34m\u001b[0m\u001b[0m\n\u001b[1;32m      5\u001b[0m ], num_req=50)\n",
      "\u001b[0;32m<ipython-input-242-ddf360da3b09>\u001b[0m in \u001b[0;36mscrape_data\u001b[0;34m(urls, num_req)\u001b[0m\n\u001b[1;32m      9\u001b[0m             \u001b[0;32melse\u001b[0m\u001b[0;34m:\u001b[0m\u001b[0;34m\u001b[0m\u001b[0;34m\u001b[0m\u001b[0m\n\u001b[1;32m     10\u001b[0m                 \u001b[0mparams\u001b[0m \u001b[0;34m=\u001b[0m \u001b[0;34m{\u001b[0m\u001b[0;34m'after'\u001b[0m\u001b[0;34m:\u001b[0m \u001b[0mafter\u001b[0m\u001b[0;34m}\u001b[0m\u001b[0;34m\u001b[0m\u001b[0;34m\u001b[0m\u001b[0m\n\u001b[0;32m---> 11\u001b[0;31m             \u001b[0mres\u001b[0m  \u001b[0;34m=\u001b[0m \u001b[0mrequests\u001b[0m\u001b[0;34m.\u001b[0m\u001b[0mget\u001b[0m\u001b[0;34m(\u001b[0m\u001b[0murl\u001b[0m\u001b[0;34m,\u001b[0m \u001b[0mparams\u001b[0m \u001b[0;34m=\u001b[0m \u001b[0mparams\u001b[0m\u001b[0;34m,\u001b[0m \u001b[0mheaders\u001b[0m\u001b[0;34m=\u001b[0m\u001b[0;34m{\u001b[0m\u001b[0;34m'User-agent'\u001b[0m\u001b[0;34m:\u001b[0m \u001b[0;34m'Data Inc'\u001b[0m\u001b[0;34m}\u001b[0m\u001b[0;34m)\u001b[0m\u001b[0;34m\u001b[0m\u001b[0;34m\u001b[0m\u001b[0m\n\u001b[0m\u001b[1;32m     12\u001b[0m             \u001b[0;32mif\u001b[0m \u001b[0mres\u001b[0m\u001b[0;34m.\u001b[0m\u001b[0mstatus_code\u001b[0m \u001b[0;34m==\u001b[0m \u001b[0;36m200\u001b[0m\u001b[0;34m:\u001b[0m\u001b[0;34m\u001b[0m\u001b[0;34m\u001b[0m\u001b[0m\n\u001b[1;32m     13\u001b[0m                 \u001b[0mthe_json\u001b[0m \u001b[0;34m=\u001b[0m \u001b[0mres\u001b[0m\u001b[0;34m.\u001b[0m\u001b[0mjson\u001b[0m\u001b[0;34m(\u001b[0m\u001b[0;34m)\u001b[0m\u001b[0;34m\u001b[0m\u001b[0;34m\u001b[0m\u001b[0m\n",
      "\u001b[0;32m~/opt/anaconda3/lib/python3.8/site-packages/requests/api.py\u001b[0m in \u001b[0;36mget\u001b[0;34m(url, params, **kwargs)\u001b[0m\n\u001b[1;32m     74\u001b[0m \u001b[0;34m\u001b[0m\u001b[0m\n\u001b[1;32m     75\u001b[0m     \u001b[0mkwargs\u001b[0m\u001b[0;34m.\u001b[0m\u001b[0msetdefault\u001b[0m\u001b[0;34m(\u001b[0m\u001b[0;34m'allow_redirects'\u001b[0m\u001b[0;34m,\u001b[0m \u001b[0;32mTrue\u001b[0m\u001b[0;34m)\u001b[0m\u001b[0;34m\u001b[0m\u001b[0;34m\u001b[0m\u001b[0m\n\u001b[0;32m---> 76\u001b[0;31m     \u001b[0;32mreturn\u001b[0m \u001b[0mrequest\u001b[0m\u001b[0;34m(\u001b[0m\u001b[0;34m'get'\u001b[0m\u001b[0;34m,\u001b[0m \u001b[0murl\u001b[0m\u001b[0;34m,\u001b[0m \u001b[0mparams\u001b[0m\u001b[0;34m=\u001b[0m\u001b[0mparams\u001b[0m\u001b[0;34m,\u001b[0m \u001b[0;34m**\u001b[0m\u001b[0mkwargs\u001b[0m\u001b[0;34m)\u001b[0m\u001b[0;34m\u001b[0m\u001b[0;34m\u001b[0m\u001b[0m\n\u001b[0m\u001b[1;32m     77\u001b[0m \u001b[0;34m\u001b[0m\u001b[0m\n\u001b[1;32m     78\u001b[0m \u001b[0;34m\u001b[0m\u001b[0m\n",
      "\u001b[0;32m~/opt/anaconda3/lib/python3.8/site-packages/requests/api.py\u001b[0m in \u001b[0;36mrequest\u001b[0;34m(method, url, **kwargs)\u001b[0m\n\u001b[1;32m     59\u001b[0m     \u001b[0;31m# cases, and look like a memory leak in others.\u001b[0m\u001b[0;34m\u001b[0m\u001b[0;34m\u001b[0m\u001b[0;34m\u001b[0m\u001b[0m\n\u001b[1;32m     60\u001b[0m     \u001b[0;32mwith\u001b[0m \u001b[0msessions\u001b[0m\u001b[0;34m.\u001b[0m\u001b[0mSession\u001b[0m\u001b[0;34m(\u001b[0m\u001b[0;34m)\u001b[0m \u001b[0;32mas\u001b[0m \u001b[0msession\u001b[0m\u001b[0;34m:\u001b[0m\u001b[0;34m\u001b[0m\u001b[0;34m\u001b[0m\u001b[0m\n\u001b[0;32m---> 61\u001b[0;31m         \u001b[0;32mreturn\u001b[0m \u001b[0msession\u001b[0m\u001b[0;34m.\u001b[0m\u001b[0mrequest\u001b[0m\u001b[0;34m(\u001b[0m\u001b[0mmethod\u001b[0m\u001b[0;34m=\u001b[0m\u001b[0mmethod\u001b[0m\u001b[0;34m,\u001b[0m \u001b[0murl\u001b[0m\u001b[0;34m=\u001b[0m\u001b[0murl\u001b[0m\u001b[0;34m,\u001b[0m \u001b[0;34m**\u001b[0m\u001b[0mkwargs\u001b[0m\u001b[0;34m)\u001b[0m\u001b[0;34m\u001b[0m\u001b[0;34m\u001b[0m\u001b[0m\n\u001b[0m\u001b[1;32m     62\u001b[0m \u001b[0;34m\u001b[0m\u001b[0m\n\u001b[1;32m     63\u001b[0m \u001b[0;34m\u001b[0m\u001b[0m\n",
      "\u001b[0;32m~/opt/anaconda3/lib/python3.8/site-packages/requests/sessions.py\u001b[0m in \u001b[0;36mrequest\u001b[0;34m(self, method, url, params, data, headers, cookies, files, auth, timeout, allow_redirects, proxies, hooks, stream, verify, cert, json)\u001b[0m\n\u001b[1;32m    540\u001b[0m         }\n\u001b[1;32m    541\u001b[0m         \u001b[0msend_kwargs\u001b[0m\u001b[0;34m.\u001b[0m\u001b[0mupdate\u001b[0m\u001b[0;34m(\u001b[0m\u001b[0msettings\u001b[0m\u001b[0;34m)\u001b[0m\u001b[0;34m\u001b[0m\u001b[0;34m\u001b[0m\u001b[0m\n\u001b[0;32m--> 542\u001b[0;31m         \u001b[0mresp\u001b[0m \u001b[0;34m=\u001b[0m \u001b[0mself\u001b[0m\u001b[0;34m.\u001b[0m\u001b[0msend\u001b[0m\u001b[0;34m(\u001b[0m\u001b[0mprep\u001b[0m\u001b[0;34m,\u001b[0m \u001b[0;34m**\u001b[0m\u001b[0msend_kwargs\u001b[0m\u001b[0;34m)\u001b[0m\u001b[0;34m\u001b[0m\u001b[0;34m\u001b[0m\u001b[0m\n\u001b[0m\u001b[1;32m    543\u001b[0m \u001b[0;34m\u001b[0m\u001b[0m\n\u001b[1;32m    544\u001b[0m         \u001b[0;32mreturn\u001b[0m \u001b[0mresp\u001b[0m\u001b[0;34m\u001b[0m\u001b[0;34m\u001b[0m\u001b[0m\n",
      "\u001b[0;32m~/opt/anaconda3/lib/python3.8/site-packages/requests/sessions.py\u001b[0m in \u001b[0;36msend\u001b[0;34m(self, request, **kwargs)\u001b[0m\n\u001b[1;32m    653\u001b[0m \u001b[0;34m\u001b[0m\u001b[0m\n\u001b[1;32m    654\u001b[0m         \u001b[0;31m# Send the request\u001b[0m\u001b[0;34m\u001b[0m\u001b[0;34m\u001b[0m\u001b[0;34m\u001b[0m\u001b[0m\n\u001b[0;32m--> 655\u001b[0;31m         \u001b[0mr\u001b[0m \u001b[0;34m=\u001b[0m \u001b[0madapter\u001b[0m\u001b[0;34m.\u001b[0m\u001b[0msend\u001b[0m\u001b[0;34m(\u001b[0m\u001b[0mrequest\u001b[0m\u001b[0;34m,\u001b[0m \u001b[0;34m**\u001b[0m\u001b[0mkwargs\u001b[0m\u001b[0;34m)\u001b[0m\u001b[0;34m\u001b[0m\u001b[0;34m\u001b[0m\u001b[0m\n\u001b[0m\u001b[1;32m    656\u001b[0m \u001b[0;34m\u001b[0m\u001b[0m\n\u001b[1;32m    657\u001b[0m         \u001b[0;31m# Total elapsed time of the request (approximately)\u001b[0m\u001b[0;34m\u001b[0m\u001b[0;34m\u001b[0m\u001b[0;34m\u001b[0m\u001b[0m\n",
      "\u001b[0;32m~/opt/anaconda3/lib/python3.8/site-packages/requests/adapters.py\u001b[0m in \u001b[0;36msend\u001b[0;34m(self, request, stream, timeout, verify, cert, proxies)\u001b[0m\n\u001b[1;32m    437\u001b[0m         \u001b[0;32mtry\u001b[0m\u001b[0;34m:\u001b[0m\u001b[0;34m\u001b[0m\u001b[0;34m\u001b[0m\u001b[0m\n\u001b[1;32m    438\u001b[0m             \u001b[0;32mif\u001b[0m \u001b[0;32mnot\u001b[0m \u001b[0mchunked\u001b[0m\u001b[0;34m:\u001b[0m\u001b[0;34m\u001b[0m\u001b[0;34m\u001b[0m\u001b[0m\n\u001b[0;32m--> 439\u001b[0;31m                 resp = conn.urlopen(\n\u001b[0m\u001b[1;32m    440\u001b[0m                     \u001b[0mmethod\u001b[0m\u001b[0;34m=\u001b[0m\u001b[0mrequest\u001b[0m\u001b[0;34m.\u001b[0m\u001b[0mmethod\u001b[0m\u001b[0;34m,\u001b[0m\u001b[0;34m\u001b[0m\u001b[0;34m\u001b[0m\u001b[0m\n\u001b[1;32m    441\u001b[0m                     \u001b[0murl\u001b[0m\u001b[0;34m=\u001b[0m\u001b[0murl\u001b[0m\u001b[0;34m,\u001b[0m\u001b[0;34m\u001b[0m\u001b[0;34m\u001b[0m\u001b[0m\n",
      "\u001b[0;32m~/opt/anaconda3/lib/python3.8/site-packages/urllib3/connectionpool.py\u001b[0m in \u001b[0;36murlopen\u001b[0;34m(self, method, url, body, headers, retries, redirect, assert_same_host, timeout, pool_timeout, release_conn, chunked, body_pos, **response_kw)\u001b[0m\n\u001b[1;32m    697\u001b[0m \u001b[0;34m\u001b[0m\u001b[0m\n\u001b[1;32m    698\u001b[0m             \u001b[0;31m# Make the request on the httplib connection object.\u001b[0m\u001b[0;34m\u001b[0m\u001b[0;34m\u001b[0m\u001b[0;34m\u001b[0m\u001b[0m\n\u001b[0;32m--> 699\u001b[0;31m             httplib_response = self._make_request(\n\u001b[0m\u001b[1;32m    700\u001b[0m                 \u001b[0mconn\u001b[0m\u001b[0;34m,\u001b[0m\u001b[0;34m\u001b[0m\u001b[0;34m\u001b[0m\u001b[0m\n\u001b[1;32m    701\u001b[0m                 \u001b[0mmethod\u001b[0m\u001b[0;34m,\u001b[0m\u001b[0;34m\u001b[0m\u001b[0;34m\u001b[0m\u001b[0m\n",
      "\u001b[0;32m~/opt/anaconda3/lib/python3.8/site-packages/urllib3/connectionpool.py\u001b[0m in \u001b[0;36m_make_request\u001b[0;34m(self, conn, method, url, timeout, chunked, **httplib_request_kw)\u001b[0m\n\u001b[1;32m    443\u001b[0m                     \u001b[0;31m# Python 3 (including for exceptions like SystemExit).\u001b[0m\u001b[0;34m\u001b[0m\u001b[0;34m\u001b[0m\u001b[0;34m\u001b[0m\u001b[0m\n\u001b[1;32m    444\u001b[0m                     \u001b[0;31m# Otherwise it looks like a bug in the code.\u001b[0m\u001b[0;34m\u001b[0m\u001b[0;34m\u001b[0m\u001b[0;34m\u001b[0m\u001b[0m\n\u001b[0;32m--> 445\u001b[0;31m                     \u001b[0msix\u001b[0m\u001b[0;34m.\u001b[0m\u001b[0mraise_from\u001b[0m\u001b[0;34m(\u001b[0m\u001b[0me\u001b[0m\u001b[0;34m,\u001b[0m \u001b[0;32mNone\u001b[0m\u001b[0;34m)\u001b[0m\u001b[0;34m\u001b[0m\u001b[0;34m\u001b[0m\u001b[0m\n\u001b[0m\u001b[1;32m    446\u001b[0m         \u001b[0;32mexcept\u001b[0m \u001b[0;34m(\u001b[0m\u001b[0mSocketTimeout\u001b[0m\u001b[0;34m,\u001b[0m \u001b[0mBaseSSLError\u001b[0m\u001b[0;34m,\u001b[0m \u001b[0mSocketError\u001b[0m\u001b[0;34m)\u001b[0m \u001b[0;32mas\u001b[0m \u001b[0me\u001b[0m\u001b[0;34m:\u001b[0m\u001b[0;34m\u001b[0m\u001b[0;34m\u001b[0m\u001b[0m\n\u001b[1;32m    447\u001b[0m             \u001b[0mself\u001b[0m\u001b[0;34m.\u001b[0m\u001b[0m_raise_timeout\u001b[0m\u001b[0;34m(\u001b[0m\u001b[0merr\u001b[0m\u001b[0;34m=\u001b[0m\u001b[0me\u001b[0m\u001b[0;34m,\u001b[0m \u001b[0murl\u001b[0m\u001b[0;34m=\u001b[0m\u001b[0murl\u001b[0m\u001b[0;34m,\u001b[0m \u001b[0mtimeout_value\u001b[0m\u001b[0;34m=\u001b[0m\u001b[0mread_timeout\u001b[0m\u001b[0;34m)\u001b[0m\u001b[0;34m\u001b[0m\u001b[0;34m\u001b[0m\u001b[0m\n",
      "\u001b[0;32m~/opt/anaconda3/lib/python3.8/site-packages/urllib3/packages/six.py\u001b[0m in \u001b[0;36mraise_from\u001b[0;34m(value, from_value)\u001b[0m\n",
      "\u001b[0;32m~/opt/anaconda3/lib/python3.8/site-packages/urllib3/connectionpool.py\u001b[0m in \u001b[0;36m_make_request\u001b[0;34m(self, conn, method, url, timeout, chunked, **httplib_request_kw)\u001b[0m\n\u001b[1;32m    438\u001b[0m                 \u001b[0;31m# Python 3\u001b[0m\u001b[0;34m\u001b[0m\u001b[0;34m\u001b[0m\u001b[0;34m\u001b[0m\u001b[0m\n\u001b[1;32m    439\u001b[0m                 \u001b[0;32mtry\u001b[0m\u001b[0;34m:\u001b[0m\u001b[0;34m\u001b[0m\u001b[0;34m\u001b[0m\u001b[0m\n\u001b[0;32m--> 440\u001b[0;31m                     \u001b[0mhttplib_response\u001b[0m \u001b[0;34m=\u001b[0m \u001b[0mconn\u001b[0m\u001b[0;34m.\u001b[0m\u001b[0mgetresponse\u001b[0m\u001b[0;34m(\u001b[0m\u001b[0;34m)\u001b[0m\u001b[0;34m\u001b[0m\u001b[0;34m\u001b[0m\u001b[0m\n\u001b[0m\u001b[1;32m    441\u001b[0m                 \u001b[0;32mexcept\u001b[0m \u001b[0mBaseException\u001b[0m \u001b[0;32mas\u001b[0m \u001b[0me\u001b[0m\u001b[0;34m:\u001b[0m\u001b[0;34m\u001b[0m\u001b[0;34m\u001b[0m\u001b[0m\n\u001b[1;32m    442\u001b[0m                     \u001b[0;31m# Remove the TypeError from the exception chain in\u001b[0m\u001b[0;34m\u001b[0m\u001b[0;34m\u001b[0m\u001b[0;34m\u001b[0m\u001b[0m\n",
      "\u001b[0;32m~/opt/anaconda3/lib/python3.8/http/client.py\u001b[0m in \u001b[0;36mgetresponse\u001b[0;34m(self)\u001b[0m\n\u001b[1;32m   1345\u001b[0m         \u001b[0;32mtry\u001b[0m\u001b[0;34m:\u001b[0m\u001b[0;34m\u001b[0m\u001b[0;34m\u001b[0m\u001b[0m\n\u001b[1;32m   1346\u001b[0m             \u001b[0;32mtry\u001b[0m\u001b[0;34m:\u001b[0m\u001b[0;34m\u001b[0m\u001b[0;34m\u001b[0m\u001b[0m\n\u001b[0;32m-> 1347\u001b[0;31m                 \u001b[0mresponse\u001b[0m\u001b[0;34m.\u001b[0m\u001b[0mbegin\u001b[0m\u001b[0;34m(\u001b[0m\u001b[0;34m)\u001b[0m\u001b[0;34m\u001b[0m\u001b[0;34m\u001b[0m\u001b[0m\n\u001b[0m\u001b[1;32m   1348\u001b[0m             \u001b[0;32mexcept\u001b[0m \u001b[0mConnectionError\u001b[0m\u001b[0;34m:\u001b[0m\u001b[0;34m\u001b[0m\u001b[0;34m\u001b[0m\u001b[0m\n\u001b[1;32m   1349\u001b[0m                 \u001b[0mself\u001b[0m\u001b[0;34m.\u001b[0m\u001b[0mclose\u001b[0m\u001b[0;34m(\u001b[0m\u001b[0;34m)\u001b[0m\u001b[0;34m\u001b[0m\u001b[0;34m\u001b[0m\u001b[0m\n",
      "\u001b[0;32m~/opt/anaconda3/lib/python3.8/http/client.py\u001b[0m in \u001b[0;36mbegin\u001b[0;34m(self)\u001b[0m\n\u001b[1;32m    305\u001b[0m         \u001b[0;31m# read until we get a non-100 response\u001b[0m\u001b[0;34m\u001b[0m\u001b[0;34m\u001b[0m\u001b[0;34m\u001b[0m\u001b[0m\n\u001b[1;32m    306\u001b[0m         \u001b[0;32mwhile\u001b[0m \u001b[0;32mTrue\u001b[0m\u001b[0;34m:\u001b[0m\u001b[0;34m\u001b[0m\u001b[0;34m\u001b[0m\u001b[0m\n\u001b[0;32m--> 307\u001b[0;31m             \u001b[0mversion\u001b[0m\u001b[0;34m,\u001b[0m \u001b[0mstatus\u001b[0m\u001b[0;34m,\u001b[0m \u001b[0mreason\u001b[0m \u001b[0;34m=\u001b[0m \u001b[0mself\u001b[0m\u001b[0;34m.\u001b[0m\u001b[0m_read_status\u001b[0m\u001b[0;34m(\u001b[0m\u001b[0;34m)\u001b[0m\u001b[0;34m\u001b[0m\u001b[0;34m\u001b[0m\u001b[0m\n\u001b[0m\u001b[1;32m    308\u001b[0m             \u001b[0;32mif\u001b[0m \u001b[0mstatus\u001b[0m \u001b[0;34m!=\u001b[0m \u001b[0mCONTINUE\u001b[0m\u001b[0;34m:\u001b[0m\u001b[0;34m\u001b[0m\u001b[0;34m\u001b[0m\u001b[0m\n\u001b[1;32m    309\u001b[0m                 \u001b[0;32mbreak\u001b[0m\u001b[0;34m\u001b[0m\u001b[0;34m\u001b[0m\u001b[0m\n",
      "\u001b[0;32m~/opt/anaconda3/lib/python3.8/http/client.py\u001b[0m in \u001b[0;36m_read_status\u001b[0;34m(self)\u001b[0m\n\u001b[1;32m    266\u001b[0m \u001b[0;34m\u001b[0m\u001b[0m\n\u001b[1;32m    267\u001b[0m     \u001b[0;32mdef\u001b[0m \u001b[0m_read_status\u001b[0m\u001b[0;34m(\u001b[0m\u001b[0mself\u001b[0m\u001b[0;34m)\u001b[0m\u001b[0;34m:\u001b[0m\u001b[0;34m\u001b[0m\u001b[0;34m\u001b[0m\u001b[0m\n\u001b[0;32m--> 268\u001b[0;31m         \u001b[0mline\u001b[0m \u001b[0;34m=\u001b[0m \u001b[0mstr\u001b[0m\u001b[0;34m(\u001b[0m\u001b[0mself\u001b[0m\u001b[0;34m.\u001b[0m\u001b[0mfp\u001b[0m\u001b[0;34m.\u001b[0m\u001b[0mreadline\u001b[0m\u001b[0;34m(\u001b[0m\u001b[0m_MAXLINE\u001b[0m \u001b[0;34m+\u001b[0m \u001b[0;36m1\u001b[0m\u001b[0;34m)\u001b[0m\u001b[0;34m,\u001b[0m \u001b[0;34m\"iso-8859-1\"\u001b[0m\u001b[0;34m)\u001b[0m\u001b[0;34m\u001b[0m\u001b[0;34m\u001b[0m\u001b[0m\n\u001b[0m\u001b[1;32m    269\u001b[0m         \u001b[0;32mif\u001b[0m \u001b[0mlen\u001b[0m\u001b[0;34m(\u001b[0m\u001b[0mline\u001b[0m\u001b[0;34m)\u001b[0m \u001b[0;34m>\u001b[0m \u001b[0m_MAXLINE\u001b[0m\u001b[0;34m:\u001b[0m\u001b[0;34m\u001b[0m\u001b[0;34m\u001b[0m\u001b[0m\n\u001b[1;32m    270\u001b[0m             \u001b[0;32mraise\u001b[0m \u001b[0mLineTooLong\u001b[0m\u001b[0;34m(\u001b[0m\u001b[0;34m\"status line\"\u001b[0m\u001b[0;34m)\u001b[0m\u001b[0;34m\u001b[0m\u001b[0;34m\u001b[0m\u001b[0m\n",
      "\u001b[0;32m~/opt/anaconda3/lib/python3.8/socket.py\u001b[0m in \u001b[0;36mreadinto\u001b[0;34m(self, b)\u001b[0m\n\u001b[1;32m    667\u001b[0m         \u001b[0;32mwhile\u001b[0m \u001b[0;32mTrue\u001b[0m\u001b[0;34m:\u001b[0m\u001b[0;34m\u001b[0m\u001b[0;34m\u001b[0m\u001b[0m\n\u001b[1;32m    668\u001b[0m             \u001b[0;32mtry\u001b[0m\u001b[0;34m:\u001b[0m\u001b[0;34m\u001b[0m\u001b[0;34m\u001b[0m\u001b[0m\n\u001b[0;32m--> 669\u001b[0;31m                 \u001b[0;32mreturn\u001b[0m \u001b[0mself\u001b[0m\u001b[0;34m.\u001b[0m\u001b[0m_sock\u001b[0m\u001b[0;34m.\u001b[0m\u001b[0mrecv_into\u001b[0m\u001b[0;34m(\u001b[0m\u001b[0mb\u001b[0m\u001b[0;34m)\u001b[0m\u001b[0;34m\u001b[0m\u001b[0;34m\u001b[0m\u001b[0m\n\u001b[0m\u001b[1;32m    670\u001b[0m             \u001b[0;32mexcept\u001b[0m \u001b[0mtimeout\u001b[0m\u001b[0;34m:\u001b[0m\u001b[0;34m\u001b[0m\u001b[0;34m\u001b[0m\u001b[0m\n\u001b[1;32m    671\u001b[0m                 \u001b[0mself\u001b[0m\u001b[0;34m.\u001b[0m\u001b[0m_timeout_occurred\u001b[0m \u001b[0;34m=\u001b[0m \u001b[0;32mTrue\u001b[0m\u001b[0;34m\u001b[0m\u001b[0;34m\u001b[0m\u001b[0m\n",
      "\u001b[0;32m~/opt/anaconda3/lib/python3.8/ssl.py\u001b[0m in \u001b[0;36mrecv_into\u001b[0;34m(self, buffer, nbytes, flags)\u001b[0m\n\u001b[1;32m   1239\u001b[0m                   \u001b[0;34m\"non-zero flags not allowed in calls to recv_into() on %s\"\u001b[0m \u001b[0;34m%\u001b[0m\u001b[0;34m\u001b[0m\u001b[0;34m\u001b[0m\u001b[0m\n\u001b[1;32m   1240\u001b[0m                   self.__class__)\n\u001b[0;32m-> 1241\u001b[0;31m             \u001b[0;32mreturn\u001b[0m \u001b[0mself\u001b[0m\u001b[0;34m.\u001b[0m\u001b[0mread\u001b[0m\u001b[0;34m(\u001b[0m\u001b[0mnbytes\u001b[0m\u001b[0;34m,\u001b[0m \u001b[0mbuffer\u001b[0m\u001b[0;34m)\u001b[0m\u001b[0;34m\u001b[0m\u001b[0;34m\u001b[0m\u001b[0m\n\u001b[0m\u001b[1;32m   1242\u001b[0m         \u001b[0;32melse\u001b[0m\u001b[0;34m:\u001b[0m\u001b[0;34m\u001b[0m\u001b[0;34m\u001b[0m\u001b[0m\n\u001b[1;32m   1243\u001b[0m             \u001b[0;32mreturn\u001b[0m \u001b[0msuper\u001b[0m\u001b[0;34m(\u001b[0m\u001b[0;34m)\u001b[0m\u001b[0;34m.\u001b[0m\u001b[0mrecv_into\u001b[0m\u001b[0;34m(\u001b[0m\u001b[0mbuffer\u001b[0m\u001b[0;34m,\u001b[0m \u001b[0mnbytes\u001b[0m\u001b[0;34m,\u001b[0m \u001b[0mflags\u001b[0m\u001b[0;34m)\u001b[0m\u001b[0;34m\u001b[0m\u001b[0;34m\u001b[0m\u001b[0m\n",
      "\u001b[0;32m~/opt/anaconda3/lib/python3.8/ssl.py\u001b[0m in \u001b[0;36mread\u001b[0;34m(self, len, buffer)\u001b[0m\n\u001b[1;32m   1097\u001b[0m         \u001b[0;32mtry\u001b[0m\u001b[0;34m:\u001b[0m\u001b[0;34m\u001b[0m\u001b[0;34m\u001b[0m\u001b[0m\n\u001b[1;32m   1098\u001b[0m             \u001b[0;32mif\u001b[0m \u001b[0mbuffer\u001b[0m \u001b[0;32mis\u001b[0m \u001b[0;32mnot\u001b[0m \u001b[0;32mNone\u001b[0m\u001b[0;34m:\u001b[0m\u001b[0;34m\u001b[0m\u001b[0;34m\u001b[0m\u001b[0m\n\u001b[0;32m-> 1099\u001b[0;31m                 \u001b[0;32mreturn\u001b[0m \u001b[0mself\u001b[0m\u001b[0;34m.\u001b[0m\u001b[0m_sslobj\u001b[0m\u001b[0;34m.\u001b[0m\u001b[0mread\u001b[0m\u001b[0;34m(\u001b[0m\u001b[0mlen\u001b[0m\u001b[0;34m,\u001b[0m \u001b[0mbuffer\u001b[0m\u001b[0;34m)\u001b[0m\u001b[0;34m\u001b[0m\u001b[0;34m\u001b[0m\u001b[0m\n\u001b[0m\u001b[1;32m   1100\u001b[0m             \u001b[0;32melse\u001b[0m\u001b[0;34m:\u001b[0m\u001b[0;34m\u001b[0m\u001b[0;34m\u001b[0m\u001b[0m\n\u001b[1;32m   1101\u001b[0m                 \u001b[0;32mreturn\u001b[0m \u001b[0mself\u001b[0m\u001b[0;34m.\u001b[0m\u001b[0m_sslobj\u001b[0m\u001b[0;34m.\u001b[0m\u001b[0mread\u001b[0m\u001b[0;34m(\u001b[0m\u001b[0mlen\u001b[0m\u001b[0;34m)\u001b[0m\u001b[0;34m\u001b[0m\u001b[0;34m\u001b[0m\u001b[0m\n",
      "\u001b[0;31mKeyboardInterrupt\u001b[0m: "
     ]
    }
   ],
   "source": [
    "# Scrape posts from subreddits\n",
    "df = scrape_data([\n",
    "    'https://www.reddit.com/r/seattle.json',\n",
    "    'https://www.reddit.com/r/boston.json'\n",
    "], num_req=50)"
   ]
  },
  {
   "cell_type": "code",
   "execution_count": null,
   "id": "236ad7cb",
   "metadata": {},
   "outputs": [],
   "source": [
    "# Save data\n",
    "df.to_csv('./data/posts.csv', index=False)"
   ]
  },
  {
   "cell_type": "markdown",
   "id": "7d77f0b1",
   "metadata": {},
   "source": [
    "## Data Cleaning & EDA"
   ]
  },
  {
   "cell_type": "code",
   "execution_count": 244,
   "id": "03a752a4",
   "metadata": {},
   "outputs": [],
   "source": [
    "# Import data\n",
    "df = pd.read_csv('./data/posts.csv')"
   ]
  },
  {
   "cell_type": "code",
   "execution_count": 245,
   "id": "64451b81",
   "metadata": {
    "scrolled": true
   },
   "outputs": [
    {
     "data": {
      "text/html": [
       "<div>\n",
       "<style scoped>\n",
       "    .dataframe tbody tr th:only-of-type {\n",
       "        vertical-align: middle;\n",
       "    }\n",
       "\n",
       "    .dataframe tbody tr th {\n",
       "        vertical-align: top;\n",
       "    }\n",
       "\n",
       "    .dataframe thead th {\n",
       "        text-align: right;\n",
       "    }\n",
       "</style>\n",
       "<table border=\"1\" class=\"dataframe\">\n",
       "  <thead>\n",
       "    <tr style=\"text-align: right;\">\n",
       "      <th></th>\n",
       "      <th>subreddit</th>\n",
       "      <th>selftext</th>\n",
       "      <th>title</th>\n",
       "    </tr>\n",
       "  </thead>\n",
       "  <tbody>\n",
       "    <tr>\n",
       "      <th>0</th>\n",
       "      <td>Seattle</td>\n",
       "      <td>Hey folks! It's been a while since we posted o...</td>\n",
       "      <td>Best of Seattle 2021: /r/Seattle Recommendatio...</td>\n",
       "    </tr>\n",
       "    <tr>\n",
       "      <th>1</th>\n",
       "      <td>Seattle</td>\n",
       "      <td>Please join our [Discord](https://discord.gg/Y...</td>\n",
       "      <td>Weekly \"What's Happening\" general discussion a...</td>\n",
       "    </tr>\n",
       "    <tr>\n",
       "      <th>2</th>\n",
       "      <td>Seattle</td>\n",
       "      <td>NaN</td>\n",
       "      <td>Does anyone have an explanation for this monst...</td>\n",
       "    </tr>\n",
       "    <tr>\n",
       "      <th>3</th>\n",
       "      <td>Seattle</td>\n",
       "      <td>NaN</td>\n",
       "      <td>Another Saturday, another urban hike. Chilly b...</td>\n",
       "    </tr>\n",
       "    <tr>\n",
       "      <th>4</th>\n",
       "      <td>Seattle</td>\n",
       "      <td>NaN</td>\n",
       "      <td>Colorful sky tonight</td>\n",
       "    </tr>\n",
       "  </tbody>\n",
       "</table>\n",
       "</div>"
      ],
      "text/plain": [
       "  subreddit                                           selftext  \\\n",
       "0   Seattle  Hey folks! It's been a while since we posted o...   \n",
       "1   Seattle  Please join our [Discord](https://discord.gg/Y...   \n",
       "2   Seattle                                                NaN   \n",
       "3   Seattle                                                NaN   \n",
       "4   Seattle                                                NaN   \n",
       "\n",
       "                                               title  \n",
       "0  Best of Seattle 2021: /r/Seattle Recommendatio...  \n",
       "1  Weekly \"What's Happening\" general discussion a...  \n",
       "2  Does anyone have an explanation for this monst...  \n",
       "3  Another Saturday, another urban hike. Chilly b...  \n",
       "4                               Colorful sky tonight  "
      ]
     },
     "execution_count": 245,
     "metadata": {},
     "output_type": "execute_result"
    }
   ],
   "source": [
    "df.head()"
   ]
  },
  {
   "cell_type": "code",
   "execution_count": 246,
   "id": "6412ff9a",
   "metadata": {
    "scrolled": true
   },
   "outputs": [
    {
     "data": {
      "text/plain": [
       "(1785, 3)"
      ]
     },
     "execution_count": 246,
     "metadata": {},
     "output_type": "execute_result"
    }
   ],
   "source": [
    "df.shape"
   ]
  },
  {
   "cell_type": "code",
   "execution_count": 247,
   "id": "3103f8ff",
   "metadata": {},
   "outputs": [
    {
     "data": {
      "text/plain": [
       "subreddit      0\n",
       "selftext     752\n",
       "title          0\n",
       "dtype: int64"
      ]
     },
     "execution_count": 247,
     "metadata": {},
     "output_type": "execute_result"
    }
   ],
   "source": [
    "df.isnull().sum()"
   ]
  },
  {
   "cell_type": "code",
   "execution_count": 248,
   "id": "7f45fd39",
   "metadata": {},
   "outputs": [],
   "source": [
    "# fill NaN\n",
    "df.fillna('', inplace=True)"
   ]
  },
  {
   "cell_type": "code",
   "execution_count": 249,
   "id": "2f51fb90",
   "metadata": {},
   "outputs": [
    {
     "data": {
      "text/plain": [
       "subreddit    0\n",
       "selftext     0\n",
       "title        0\n",
       "dtype: int64"
      ]
     },
     "execution_count": 249,
     "metadata": {},
     "output_type": "execute_result"
    }
   ],
   "source": [
    "df.isnull().sum()"
   ]
  },
  {
   "cell_type": "code",
   "execution_count": 250,
   "id": "6b8742e9",
   "metadata": {},
   "outputs": [],
   "source": [
    "# Combine title and selftext in one column\n",
    "df['title_text'] = df['title'] + ' ' + df['selftext']"
   ]
  },
  {
   "cell_type": "code",
   "execution_count": 251,
   "id": "a4023502",
   "metadata": {},
   "outputs": [
    {
     "data": {
      "text/plain": [
       "boston     944\n",
       "Seattle    841\n",
       "Name: subreddit, dtype: int64"
      ]
     },
     "execution_count": 251,
     "metadata": {},
     "output_type": "execute_result"
    }
   ],
   "source": [
    "df['subreddit'].value_counts()"
   ]
  },
  {
   "cell_type": "code",
   "execution_count": 252,
   "id": "aaa58fc3",
   "metadata": {},
   "outputs": [],
   "source": [
    "# Convert subreddit to binary\n",
    "df['seattle'] = df['subreddit'].map({'boston':0, 'Seattle':1})"
   ]
  },
  {
   "cell_type": "markdown",
   "id": "31f13010",
   "metadata": {},
   "source": [
    "### CountVectorizer"
   ]
  },
  {
   "cell_type": "code",
   "execution_count": 253,
   "id": "42f51ff1",
   "metadata": {},
   "outputs": [],
   "source": [
    "# CountVectorizer boston\n",
    "cvec = CountVectorizer(stop_words='english')\n",
    "\n",
    "df_boston = df[df.subreddit == 'boston']['title_text']\n",
    "\n",
    "cvec.fit(df_boston)\n",
    "\n",
    "title_text_cvec = cvec.transform(df_boston)\n",
    "\n",
    "df_bos_cvec = pd.DataFrame(title_text_cvec.todense(), columns=cvec.get_feature_names())"
   ]
  },
  {
   "cell_type": "code",
   "execution_count": 254,
   "id": "61b76e66",
   "metadata": {},
   "outputs": [
    {
     "data": {
      "text/plain": [
       "boston             663\n",
       "https              190\n",
       "like               185\n",
       "know               169\n",
       "just               161\n",
       "looking            140\n",
       "www                135\n",
       "com                127\n",
       "going              124\n",
       "ve                 120\n",
       "city               119\n",
       "covid              117\n",
       "time               116\n",
       "best               116\n",
       "good               103\n",
       "don                 99\n",
       "places              98\n",
       "today               97\n",
       "new                 97\n",
       "does                96\n",
       "area                92\n",
       "things              87\n",
       "19                  86\n",
       "thanks              82\n",
       "questions           81\n",
       "people              76\n",
       "place               76\n",
       "thread              73\n",
       "need                73\n",
       "news                72\n",
       "line                68\n",
       "day                 66\n",
       "mass                66\n",
       "local               64\n",
       "want                63\n",
       "really              62\n",
       "mbta                61\n",
       "year                61\n",
       "days                60\n",
       "winter              59\n",
       "help                58\n",
       "information         57\n",
       "work                55\n",
       "general             55\n",
       "asked               55\n",
       "recommendations     53\n",
       "event               53\n",
       "got                 52\n",
       "message             51\n",
       "street              51\n",
       "hey                 50\n",
       "amp                 49\n",
       "make                49\n",
       "trying              49\n",
       "wondering           48\n",
       "walk                48\n",
       "long                47\n",
       "regularly           47\n",
       "near                47\n",
       "free                46\n",
       "dtype: int64"
      ]
     },
     "execution_count": 254,
     "metadata": {},
     "output_type": "execute_result"
    }
   ],
   "source": [
    "# top 60 words\n",
    "df_bos_cvec.sum().sort_values(ascending=False).head(60)"
   ]
  },
  {
   "cell_type": "code",
   "execution_count": 255,
   "id": "1a95565a",
   "metadata": {},
   "outputs": [
    {
     "data": {
      "image/png": "[encoded data removed]",
      "text/plain": [
       "<Figure size 720x432 with 1 Axes>"
      ]
     },
     "metadata": {
      "needs_background": "light"
     },
     "output_type": "display_data"
    }
   ],
   "source": [
    "# Plot top 20 words in r/boston\n",
    "plt.figure(figsize=(10, 6))\n",
    "df_bos_cvec.sum().sort_values(ascending=False).head(20).plot(kind='barh')\n",
    "plt.title('Top 20 words in /r/boston (CountVectorizer)')\n",
    "plt.xlabel('Count')\n",
    "plt.ylabel('word');"
   ]
  },
  {
   "cell_type": "code",
   "execution_count": 256,
   "id": "68dea61b",
   "metadata": {},
   "outputs": [],
   "source": [
    "# CountVectorizer seattle\n",
    "cvec = CountVectorizer(stop_words='english')\n",
    "\n",
    "df_seattle = df[df.subreddit == 'Seattle']['title_text']\n",
    "\n",
    "cvec.fit(df_seattle)\n",
    "\n",
    "title_text_cvec = cvec.transform(df_seattle)\n",
    "\n",
    "df_sea_cvec = pd.DataFrame(title_text_cvec.todense(), columns=cvec.get_feature_names())"
   ]
  },
  {
   "cell_type": "code",
   "execution_count": 257,
   "id": "4911d202",
   "metadata": {},
   "outputs": [
    {
     "data": {
      "text/plain": [
       "seattle            519\n",
       "like               238\n",
       "just               232\n",
       "know               193\n",
       "ve                 167\n",
       "looking            149\n",
       "people             140\n",
       "good               139\n",
       "don                120\n",
       "area               115\n",
       "city               109\n",
       "want               104\n",
       "new                103\n",
       "time               100\n",
       "car                 95\n",
       "thanks              93\n",
       "https               92\n",
       "work                88\n",
       "place               86\n",
       "does                85\n",
       "help                79\n",
       "year                79\n",
       "got                 74\n",
       "amp                 73\n",
       "going               72\n",
       "really              72\n",
       "recommendations     72\n",
       "need                70\n",
       "make                70\n",
       "lot                 67\n",
       "open                65\n",
       "com                 64\n",
       "way                 63\n",
       "things              63\n",
       "best                61\n",
       "day                 59\n",
       "home                59\n",
       "places              58\n",
       "state               56\n",
       "washington          55\n",
       "homeless            54\n",
       "ll                  53\n",
       "local               53\n",
       "experience          52\n",
       "trying              51\n",
       "thank               51\n",
       "years               50\n",
       "love                49\n",
       "edit                49\n",
       "service             48\n",
       "food                47\n",
       "moved               47\n",
       "sure                46\n",
       "week                46\n",
       "suggestions         45\n",
       "pretty              45\n",
       "10                  44\n",
       "live                43\n",
       "near                43\n",
       "great               42\n",
       "dtype: int64"
      ]
     },
     "execution_count": 257,
     "metadata": {},
     "output_type": "execute_result"
    }
   ],
   "source": [
    "df_sea_cvec.sum().sort_values(ascending=False).head(60)"
   ]
  },
  {
   "cell_type": "code",
   "execution_count": 258,
   "id": "91e6feb9",
   "metadata": {},
   "outputs": [
    {
     "data": {
      "image/png": "[encoded data removed]",
      "text/plain": [
       "<Figure size 720x432 with 1 Axes>"
      ]
     },
     "metadata": {
      "needs_background": "light"
     },
     "output_type": "display_data"
    }
   ],
   "source": [
    "# Plot top 20 words in r/seattle\n",
    "plt.figure(figsize=(10, 6))\n",
    "df_sea_cvec.sum().sort_values(ascending=False).head(20).plot(kind='barh')\n",
    "plt.title('Top 20 words in /r/seattle (CountVectorizer)')\n",
    "plt.xlabel('Count')\n",
    "plt.ylabel('word');"
   ]
  },
  {
   "cell_type": "markdown",
   "id": "040e2c83",
   "metadata": {},
   "source": [
    "### TfidfVectorizer"
   ]
  },
  {
   "cell_type": "code",
   "execution_count": 259,
   "id": "5d88362d",
   "metadata": {},
   "outputs": [],
   "source": [
    "# TfidfVectorizer boston\n",
    "tvec = TfidfVectorizer(stop_words='english', min_df=5, ngram_range=(1,3))\n",
    "\n",
    "df_boston = df[df.subreddit == 'boston']['title_text']\n",
    "\n",
    "tvec.fit(df_boston)\n",
    "\n",
    "title_text_tvec = tvec.transform(df_boston)\n",
    "\n",
    "df_bos_tvec = pd.DataFrame(title_text_tvec.todense(), columns=tvec.get_feature_names())"
   ]
  },
  {
   "cell_type": "code",
   "execution_count": 260,
   "id": "8e91aad2",
   "metadata": {},
   "outputs": [
    {
     "data": {
      "text/plain": [
       "boston             55.523245\n",
       "know               18.767233\n",
       "like               18.420043\n",
       "city               18.073243\n",
       "just               17.759113\n",
       "looking            17.479946\n",
       "today              16.427961\n",
       "good               16.286324\n",
       "best               15.196814\n",
       "time               14.821412\n",
       "new                14.117331\n",
       "does               13.606385\n",
       "ve                 13.598878\n",
       "area               13.508688\n",
       "don                12.071362\n",
       "covid              11.088372\n",
       "people             11.015148\n",
       "thanks             10.690514\n",
       "street             10.594397\n",
       "place              10.469559\n",
       "year               10.333429\n",
       "mass               10.311553\n",
       "line               10.096792\n",
       "going              10.043435\n",
       "want                9.858425\n",
       "need                9.502301\n",
       "places              9.443673\n",
       "winter              9.333372\n",
       "recommendations     9.150041\n",
       "public              9.123894\n",
       "https               9.055492\n",
       "near                9.039873\n",
       "massachusetts       8.806619\n",
       "amp                 8.539623\n",
       "ma                  8.331180\n",
       "car                 8.311560\n",
       "local               8.272670\n",
       "help                8.209646\n",
       "got                 8.194800\n",
       "day                 8.049169\n",
       "end                 8.028327\n",
       "make                8.023235\n",
       "work                7.931812\n",
       "police              7.834544\n",
       "really              7.831450\n",
       "live                7.783145\n",
       "morning             7.438651\n",
       "south               7.374711\n",
       "sunset              7.370557\n",
       "state               7.363785\n",
       "parking             7.345432\n",
       "trying              7.301350\n",
       "old                 7.237672\n",
       "wondering           7.063228\n",
       "19                  7.059181\n",
       "school              7.024574\n",
       "covid 19            6.971745\n",
       "bus                 6.937898\n",
       "years               6.833264\n",
       "does know           6.806884\n",
       "dtype: float64"
      ]
     },
     "execution_count": 260,
     "metadata": {},
     "output_type": "execute_result"
    }
   ],
   "source": [
    "# top 60 words\n",
    "df_bos_tvec.sum().sort_values(ascending=False).head(60)"
   ]
  },
  {
   "cell_type": "code",
   "execution_count": 261,
   "id": "b9c71a1a",
   "metadata": {},
   "outputs": [
    {
     "data": {
      "image/png": "[encoded data removed]",
      "text/plain": [
       "<Figure size 720x432 with 1 Axes>"
      ]
     },
     "metadata": {
      "needs_background": "light"
     },
     "output_type": "display_data"
    }
   ],
   "source": [
    "# Plot top 20 words in r/boston\n",
    "plt.figure(figsize=(10, 6))\n",
    "df_bos_tvec.sum().sort_values(ascending=False).head(20).plot(kind='barh')\n",
    "plt.title('Top 20 words in /r/boston (TfidfVectorizer)')\n",
    "plt.xlabel('Count')\n",
    "plt.ylabel('word');"
   ]
  },
  {
   "cell_type": "code",
   "execution_count": 262,
   "id": "68f99c85",
   "metadata": {},
   "outputs": [],
   "source": [
    "# TfidfVectorizer seattle\n",
    "tvec = TfidfVectorizer(stop_words='english', min_df=5, ngram_range=(1,3))\n",
    "\n",
    "df_seattle = df[df.subreddit == 'Seattle']['title_text']\n",
    "\n",
    "tvec.fit(df_seattle)\n",
    "\n",
    "title_text_tvec = tvec.transform(df_seattle)\n",
    "\n",
    "df_sea_tvec = pd.DataFrame(title_text_tvec.todense(), columns=tvec.get_feature_names())"
   ]
  },
  {
   "cell_type": "code",
   "execution_count": 263,
   "id": "fc11c00b",
   "metadata": {},
   "outputs": [
    {
     "data": {
      "text/plain": [
       "seattle            47.860853\n",
       "like               19.617216\n",
       "just               19.501655\n",
       "know               19.121477\n",
       "looking            18.004019\n",
       "good               18.003913\n",
       "ve                 15.425755\n",
       "city               14.068332\n",
       "area               13.642457\n",
       "new                12.898786\n",
       "place              12.449870\n",
       "want               11.954358\n",
       "thanks             11.711966\n",
       "people             11.702284\n",
       "washington         11.398191\n",
       "time               11.152376\n",
       "does               11.080797\n",
       "help               11.075024\n",
       "recommendations    10.928417\n",
       "work               10.880916\n",
       "car                10.401480\n",
       "don                10.257363\n",
       "best               10.165567\n",
       "need               10.088156\n",
       "day                 9.990395\n",
       "year                9.951386\n",
       "police              9.560981\n",
       "going               9.478291\n",
       "state               8.987488\n",
       "got                 8.970630\n",
       "things              8.884901\n",
       "way                 8.676011\n",
       "places              8.533761\n",
       "home                8.443544\n",
       "near                8.313957\n",
       "lot                 8.312531\n",
       "open                8.038121\n",
       "today               7.951137\n",
       "night               7.918937\n",
       "county              7.838347\n",
       "tonight             7.831656\n",
       "love                7.731551\n",
       "make                7.711698\n",
       "morning             7.702279\n",
       "really              7.688877\n",
       "park                7.645890\n",
       "amp                 7.619120\n",
       "week                7.448358\n",
       "ballard             7.341873\n",
       "lake                7.316598\n",
       "trying              7.291474\n",
       "suggestions         7.264429\n",
       "weekend             7.148406\n",
       "years               7.071296\n",
       "https               7.027314\n",
       "king                6.989366\n",
       "thank               6.785321\n",
       "11                  6.652441\n",
       "local               6.494101\n",
       "wa                  6.453140\n",
       "dtype: float64"
      ]
     },
     "execution_count": 263,
     "metadata": {},
     "output_type": "execute_result"
    }
   ],
   "source": [
    "# top 60 words\n",
    "df_sea_tvec.sum().sort_values(ascending=False).head(60)"
   ]
  },
  {
   "cell_type": "code",
   "execution_count": 264,
   "id": "d7d13a76",
   "metadata": {},
   "outputs": [
    {
     "data": {
      "image/png": "[encoded data removed]",
      "text/plain": [
       "<Figure size 720x432 with 1 Axes>"
      ]
     },
     "metadata": {
      "needs_background": "light"
     },
     "output_type": "display_data"
    }
   ],
   "source": [
    "# Plot top 20 words in r/seattle\n",
    "plt.figure(figsize=(10, 6))\n",
    "df_sea_tvec.sum().sort_values(ascending=False).head(20).plot(kind='barh')\n",
    "plt.title('Top 20 words in /r/seattle (TfidfVectorizer)')\n",
    "plt.xlabel('Count')\n",
    "plt.ylabel('word');"
   ]
  },
  {
   "cell_type": "markdown",
   "id": "a0e507f2",
   "metadata": {},
   "source": [
    "## Preprocessing & Modeling"
   ]
  },
  {
   "cell_type": "code",
   "execution_count": 265,
   "id": "ab1285eb",
   "metadata": {},
   "outputs": [],
   "source": [
    "X = df['title_text']\n",
    "y = df['seattle']"
   ]
  },
  {
   "cell_type": "code",
   "execution_count": 266,
   "id": "4d648c57",
   "metadata": {},
   "outputs": [
    {
     "data": {
      "text/plain": [
       "0    0.528852\n",
       "1    0.471148\n",
       "Name: seattle, dtype: float64"
      ]
     },
     "execution_count": 266,
     "metadata": {},
     "output_type": "execute_result"
    }
   ],
   "source": [
    "# Baseline accuracy\n",
    "y.value_counts(normalize=True)"
   ]
  },
  {
   "cell_type": "code",
   "execution_count": 267,
   "id": "154a61c2",
   "metadata": {},
   "outputs": [],
   "source": [
    "X_train, X_test, y_train, y_test = train_test_split(X, y, random_state=42, stratify=y)"
   ]
  },
  {
   "cell_type": "markdown",
   "id": "3832afc3",
   "metadata": {},
   "source": [
    "### Logistic regression model"
   ]
  },
  {
   "cell_type": "code",
   "execution_count": 268,
   "id": "f4d3456d",
   "metadata": {},
   "outputs": [],
   "source": [
    "cvec = CountVectorizer(stop_words='english')"
   ]
  },
  {
   "cell_type": "code",
   "execution_count": 269,
   "id": "ed174717",
   "metadata": {},
   "outputs": [],
   "source": [
    "logreg = LogisticRegression()"
   ]
  },
  {
   "cell_type": "code",
   "execution_count": 270,
   "id": "3997d34e",
   "metadata": {},
   "outputs": [],
   "source": [
    "pipe1 = Pipeline([\n",
    "    ('cvec', cvec),\n",
    "    ('logreg', logreg)\n",
    "])"
   ]
  },
  {
   "cell_type": "code",
   "execution_count": 271,
   "id": "909ec92e",
   "metadata": {
    "scrolled": true
   },
   "outputs": [
    {
     "data": {
      "text/plain": [
       "0.7900357761753033"
      ]
     },
     "execution_count": 271,
     "metadata": {},
     "output_type": "execute_result"
    }
   ],
   "source": [
    "cross_val_score(pipe1, X_train, y_train, cv=5).mean()"
   ]
  },
  {
   "cell_type": "code",
   "execution_count": 272,
   "id": "11593fcf",
   "metadata": {},
   "outputs": [
    {
     "data": {
      "text/plain": [
       "Pipeline(steps=[('cvec', CountVectorizer(stop_words='english')),\n",
       "                ('logreg', LogisticRegression())])"
      ]
     },
     "execution_count": 272,
     "metadata": {},
     "output_type": "execute_result"
    }
   ],
   "source": [
    "pipe1.fit(X_train, y_train)"
   ]
  },
  {
   "cell_type": "code",
   "execution_count": 273,
   "id": "89cd975b",
   "metadata": {},
   "outputs": [
    {
     "data": {
      "text/plain": [
       "(0.9955156950672646, 0.8299776286353467)"
      ]
     },
     "execution_count": 273,
     "metadata": {},
     "output_type": "execute_result"
    }
   ],
   "source": [
    "pipe1.score(X_train, y_train), pipe1.score(X_test, y_test)"
   ]
  },
  {
   "cell_type": "markdown",
   "id": "b8288c61",
   "metadata": {},
   "source": [
    "### GridSearchCV"
   ]
  },
  {
   "cell_type": "code",
   "execution_count": 308,
   "id": "6955d6a4",
   "metadata": {},
   "outputs": [
    {
     "name": "stdout",
     "output_type": "stream",
     "text": [
      "0.791522723461345\n"
     ]
    },
    {
     "data": {
      "text/plain": [
       "{'cvec__max_df': 0.5,\n",
       " 'cvec__max_features': None,\n",
       " 'cvec__min_df': 2,\n",
       " 'cvec__ngram_range': (1, 2)}"
      ]
     },
     "execution_count": 308,
     "metadata": {},
     "output_type": "execute_result"
    }
   ],
   "source": [
    "params = {\n",
    "    'cvec__ngram_range': [(1,1), (1,2)],\n",
    "    'cvec__min_df': [1, 2],\n",
    "    'cvec__max_df': [.5, .6, .7],\n",
    "    'cvec__max_features': [None, 500, 1000]\n",
    "}\n",
    "gs1 = GridSearchCV(pipe1, param_grid=params)\n",
    "gs1.fit(X_train, y_train)\n",
    "print(gs1.best_score_)\n",
    "gs1.best_params_"
   ]
  },
  {
   "cell_type": "code",
   "execution_count": 309,
   "id": "53efbccf",
   "metadata": {},
   "outputs": [
    {
     "data": {
      "text/plain": [
       "(0.9932735426008968, 0.8389261744966443)"
      ]
     },
     "execution_count": 309,
     "metadata": {},
     "output_type": "execute_result"
    }
   ],
   "source": [
    "gs1.score(X_train, y_train), gs1.score(X_test, y_test)"
   ]
  },
  {
   "cell_type": "markdown",
   "id": "7c3d73a2",
   "metadata": {},
   "source": [
    "### Random forest model"
   ]
  },
  {
   "cell_type": "code",
   "execution_count": 278,
   "id": "ab79cfc7",
   "metadata": {},
   "outputs": [],
   "source": [
    "cvec = CountVectorizer(stop_words='english')"
   ]
  },
  {
   "cell_type": "code",
   "execution_count": 279,
   "id": "d56c8527",
   "metadata": {},
   "outputs": [],
   "source": [
    "rf = RandomForestClassifier(random_state=42)"
   ]
  },
  {
   "cell_type": "code",
   "execution_count": 280,
   "id": "d8e248e0",
   "metadata": {},
   "outputs": [],
   "source": [
    "pipe2 = Pipeline([\n",
    "    ('cvec', cvec),\n",
    "    ('rf', rf)\n",
    "])"
   ]
  },
  {
   "cell_type": "code",
   "execution_count": 281,
   "id": "2a224089",
   "metadata": {},
   "outputs": [
    {
     "data": {
      "text/plain": [
       "0.7765442450668008"
      ]
     },
     "execution_count": 281,
     "metadata": {},
     "output_type": "execute_result"
    }
   ],
   "source": [
    "cross_val_score(pipe2, X_train, y_train, cv=5).mean()"
   ]
  },
  {
   "cell_type": "code",
   "execution_count": 282,
   "id": "d36ad89b",
   "metadata": {},
   "outputs": [
    {
     "data": {
      "text/plain": [
       "Pipeline(steps=[('cvec', CountVectorizer(stop_words='english')),\n",
       "                ('rf', RandomForestClassifier(random_state=42))])"
      ]
     },
     "execution_count": 282,
     "metadata": {},
     "output_type": "execute_result"
    }
   ],
   "source": [
    "pipe2.fit(X_train, y_train)"
   ]
  },
  {
   "cell_type": "code",
   "execution_count": 283,
   "id": "a7c0158f",
   "metadata": {},
   "outputs": [
    {
     "data": {
      "text/plain": [
       "(1.0, 0.8076062639821029)"
      ]
     },
     "execution_count": 283,
     "metadata": {},
     "output_type": "execute_result"
    }
   ],
   "source": [
    "pipe2.score(X_train, y_train), pipe2.score(X_test, y_test)"
   ]
  },
  {
   "cell_type": "code",
   "execution_count": 310,
   "id": "7488b594",
   "metadata": {},
   "outputs": [
    {
     "name": "stdout",
     "output_type": "stream",
     "text": [
      "0.8042232656940019\n"
     ]
    },
    {
     "data": {
      "text/plain": [
       "{'cvec__max_df': 0.5,\n",
       " 'cvec__max_features': None,\n",
       " 'cvec__min_df': 2,\n",
       " 'cvec__ngram_range': (1, 2)}"
      ]
     },
     "execution_count": 310,
     "metadata": {},
     "output_type": "execute_result"
    }
   ],
   "source": [
    "params = {\n",
    "    'cvec__ngram_range': [(1,1), (1,2)],\n",
    "    'cvec__min_df': [1, 2],\n",
    "    'cvec__max_df': [.5, .6, .7],\n",
    "    'cvec__max_features': [None, 500, 1000]\n",
    "}\n",
    "gs2 = GridSearchCV(pipe2, param_grid=params)\n",
    "gs2.fit(X_train, y_train)\n",
    "print(gs2.best_score_)\n",
    "gs2.best_params_"
   ]
  },
  {
   "cell_type": "code",
   "execution_count": 285,
   "id": "1f5365b5",
   "metadata": {},
   "outputs": [
    {
     "data": {
      "text/plain": [
       "(0.9985052316890882, 0.8277404921700223)"
      ]
     },
     "execution_count": 285,
     "metadata": {},
     "output_type": "execute_result"
    }
   ],
   "source": [
    "gs2.score(X_train, y_train), gs2.score(X_test, y_test)"
   ]
  },
  {
   "cell_type": "markdown",
   "id": "326a34f6",
   "metadata": {},
   "source": [
    "### Sentiment Analysis"
   ]
  },
  {
   "cell_type": "code",
   "execution_count": 286,
   "id": "3160deba",
   "metadata": {},
   "outputs": [],
   "source": [
    "sia = SentimentIntensityAnalyzer()"
   ]
  },
  {
   "cell_type": "code",
   "execution_count": 287,
   "id": "808748eb",
   "metadata": {},
   "outputs": [],
   "source": [
    "def get_sentiment(text):\n",
    "    sentiment = sia.polarity_scores(text)\n",
    "    return sentiment['compound']\n",
    "df['sentiment'] = df['title_text'].apply(get_sentiment)"
   ]
  },
  {
   "cell_type": "code",
   "execution_count": 288,
   "id": "4c3183cf",
   "metadata": {},
   "outputs": [
    {
     "data": {
      "text/plain": [
       "0       0.9952\n",
       "1       0.9472\n",
       "2       0.0000\n",
       "3       0.9428\n",
       "4       0.0000\n",
       "         ...  \n",
       "1780    0.0000\n",
       "1781    0.9169\n",
       "1782    0.0000\n",
       "1783    0.8591\n",
       "1784    0.0772\n",
       "Name: sentiment, Length: 1785, dtype: float64"
      ]
     },
     "execution_count": 288,
     "metadata": {},
     "output_type": "execute_result"
    }
   ],
   "source": [
    "df['sentiment']"
   ]
  },
  {
   "cell_type": "code",
   "execution_count": 289,
   "id": "a84b34df",
   "metadata": {},
   "outputs": [
    {
     "data": {
      "text/plain": [
       "0.2940524375743163"
      ]
     },
     "execution_count": 289,
     "metadata": {},
     "output_type": "execute_result"
    }
   ],
   "source": [
    "df[df.subreddit == 'Seattle']['sentiment'].mean()"
   ]
  },
  {
   "cell_type": "code",
   "execution_count": 290,
   "id": "af0f4873",
   "metadata": {},
   "outputs": [
    {
     "data": {
      "text/plain": [
       "1    0.581451\n",
       "0    0.418549\n",
       "Name: title_text, dtype: float64"
      ]
     },
     "execution_count": 290,
     "metadata": {},
     "output_type": "execute_result"
    }
   ],
   "source": [
    "(df[df.subreddit == 'Seattle']['title_text'].apply(get_sentiment) > 0).astype(int).value_counts(normalize=True)"
   ]
  },
  {
   "cell_type": "code",
   "execution_count": 291,
   "id": "5037fc73",
   "metadata": {},
   "outputs": [
    {
     "data": {
      "text/plain": [
       "0.2616880296610165"
      ]
     },
     "execution_count": 291,
     "metadata": {},
     "output_type": "execute_result"
    }
   ],
   "source": [
    "df[df.subreddit == 'boston']['sentiment'].mean()"
   ]
  },
  {
   "cell_type": "code",
   "execution_count": 292,
   "id": "02606d14",
   "metadata": {},
   "outputs": [
    {
     "data": {
      "text/plain": [
       "1    0.532839\n",
       "0    0.467161\n",
       "Name: title_text, dtype: float64"
      ]
     },
     "execution_count": 292,
     "metadata": {},
     "output_type": "execute_result"
    }
   ],
   "source": [
    "(df[df.subreddit == 'boston']['title_text'].apply(get_sentiment) > 0).astype(int).value_counts(normalize=True)"
   ]
  },
  {
   "cell_type": "markdown",
   "id": "9609e77a",
   "metadata": {},
   "source": [
    "## Evaluation and Conceptual Understanding"
   ]
  },
  {
   "cell_type": "code",
   "execution_count": 315,
   "id": "dcfbf59b",
   "metadata": {},
   "outputs": [],
   "source": [
    "# Generate a confusion matrix for Logistic regression model\n",
    "y_pred_log = gs1.predict(X_test)"
   ]
  },
  {
   "cell_type": "code",
   "execution_count": 316,
   "id": "a254dc33",
   "metadata": {},
   "outputs": [
    {
     "data": {
      "text/html": [
       "<div>\n",
       "<style scoped>\n",
       "    .dataframe tbody tr th:only-of-type {\n",
       "        vertical-align: middle;\n",
       "    }\n",
       "\n",
       "    .dataframe tbody tr th {\n",
       "        vertical-align: top;\n",
       "    }\n",
       "\n",
       "    .dataframe thead th {\n",
       "        text-align: right;\n",
       "    }\n",
       "</style>\n",
       "<table border=\"1\" class=\"dataframe\">\n",
       "  <thead>\n",
       "    <tr style=\"text-align: right;\">\n",
       "      <th></th>\n",
       "      <th>predit/r/boston</th>\n",
       "      <th>predit/r/seattle</th>\n",
       "    </tr>\n",
       "  </thead>\n",
       "  <tbody>\n",
       "    <tr>\n",
       "      <th>actual/r/boston</th>\n",
       "      <td>211</td>\n",
       "      <td>25</td>\n",
       "    </tr>\n",
       "    <tr>\n",
       "      <th>actual/r/seattle</th>\n",
       "      <td>47</td>\n",
       "      <td>164</td>\n",
       "    </tr>\n",
       "  </tbody>\n",
       "</table>\n",
       "</div>"
      ],
      "text/plain": [
       "                  predit/r/boston  predit/r/seattle\n",
       "actual/r/boston               211                25\n",
       "actual/r/seattle               47               164"
      ]
     },
     "execution_count": 316,
     "metadata": {},
     "output_type": "execute_result"
    }
   ],
   "source": [
    "pd.DataFrame(confusion_matrix(y_test, y_pred_log),\n",
    "            columns=['predit/r/boston', 'predit/r/seattle'],\n",
    "            index=['actual/r/boston', 'actual/r/seattle'])"
   ]
  },
  {
   "cell_type": "code",
   "execution_count": 317,
   "id": "13257936",
   "metadata": {},
   "outputs": [
    {
     "data": {
      "image/png": "[encoded data removed]",
      "text/plain": [
       "<Figure size 432x288 with 2 Axes>"
      ]
     },
     "metadata": {
      "needs_background": "light"
     },
     "output_type": "display_data"
    }
   ],
   "source": [
    "plot_confusion_matrix(gs1, X_test, y_test, cmap='Blues',\n",
    "                     display_labels=['boston', 'seattle']);"
   ]
  },
  {
   "cell_type": "code",
   "execution_count": 318,
   "id": "1be36538",
   "metadata": {},
   "outputs": [
    {
     "name": "stdout",
     "output_type": "stream",
     "text": [
      "Accuracy: 0.8389\n",
      "Misclassification rate: 0.1611\n",
      "Precision: 0.8677\n",
      "Recall: 0.7773\n",
      "Specificity: 0.8941\n"
     ]
    }
   ],
   "source": [
    "# Examine classification metrics \n",
    "tn, fp, fn, tp = confusion_matrix(y_test, y_pred_log).ravel()\n",
    "print('Accuracy: {}'.format(round((tp+tn)/(tp+fp+tn+fn),4)))\n",
    "print('Misclassification rate: {}'.format(round((fp+fn)/(tp+fp+tn+fn),4)))\n",
    "print('Precision: {}'.format(round(tp/(tp+fp),4)))\n",
    "print('Recall: {}'.format(round(tp/(tp+fn),4)))\n",
    "print('Specificity: {}'.format(round(tn/(tn+fp),4)))"
   ]
  },
  {
   "cell_type": "code",
   "execution_count": 319,
   "id": "c99a382a",
   "metadata": {},
   "outputs": [],
   "source": [
    "# Generate a confusion matrix for Random forest model\n",
    "y_pred_rf = gs2.predict(X_test)"
   ]
  },
  {
   "cell_type": "code",
   "execution_count": 320,
   "id": "1582b5b1",
   "metadata": {},
   "outputs": [
    {
     "data": {
      "text/html": [
       "<div>\n",
       "<style scoped>\n",
       "    .dataframe tbody tr th:only-of-type {\n",
       "        vertical-align: middle;\n",
       "    }\n",
       "\n",
       "    .dataframe tbody tr th {\n",
       "        vertical-align: top;\n",
       "    }\n",
       "\n",
       "    .dataframe thead th {\n",
       "        text-align: right;\n",
       "    }\n",
       "</style>\n",
       "<table border=\"1\" class=\"dataframe\">\n",
       "  <thead>\n",
       "    <tr style=\"text-align: right;\">\n",
       "      <th></th>\n",
       "      <th>predit/r/boston</th>\n",
       "      <th>predit/r/seattle</th>\n",
       "    </tr>\n",
       "  </thead>\n",
       "  <tbody>\n",
       "    <tr>\n",
       "      <th>actual/r/boston</th>\n",
       "      <td>209</td>\n",
       "      <td>27</td>\n",
       "    </tr>\n",
       "    <tr>\n",
       "      <th>actual/r/seattle</th>\n",
       "      <td>50</td>\n",
       "      <td>161</td>\n",
       "    </tr>\n",
       "  </tbody>\n",
       "</table>\n",
       "</div>"
      ],
      "text/plain": [
       "                  predit/r/boston  predit/r/seattle\n",
       "actual/r/boston               209                27\n",
       "actual/r/seattle               50               161"
      ]
     },
     "execution_count": 320,
     "metadata": {},
     "output_type": "execute_result"
    }
   ],
   "source": [
    "pd.DataFrame(confusion_matrix(y_test, y_pred_rf),\n",
    "            columns=['predit/r/boston', 'predit/r/seattle'],\n",
    "            index=['actual/r/boston', 'actual/r/seattle'])"
   ]
  },
  {
   "cell_type": "code",
   "execution_count": 322,
   "id": "f2457906",
   "metadata": {},
   "outputs": [
    {
     "data": {
      "image/png": "[encoded data removed]",
      "text/plain": [
       "<Figure size 432x288 with 2 Axes>"
      ]
     },
     "metadata": {
      "needs_background": "light"
     },
     "output_type": "display_data"
    }
   ],
   "source": [
    "plot_confusion_matrix(gs2, X_test, y_test, cmap='Blues',\n",
    "                     display_labels=['boston', 'seattle']);"
   ]
  },
  {
   "cell_type": "code",
   "execution_count": 321,
   "id": "6ccecb83",
   "metadata": {},
   "outputs": [
    {
     "name": "stdout",
     "output_type": "stream",
     "text": [
      "Accuracy: 0.8277\n",
      "Misclassification rate: 0.1723\n",
      "Precision: 0.8564\n",
      "Recall: 0.763\n",
      "Specificity: 0.8856\n"
     ]
    }
   ],
   "source": [
    "# Examine classification metrics \n",
    "tn, fp, fn, tp = confusion_matrix(y_test, y_pred_rf).ravel()\n",
    "print('Accuracy: {}'.format(round((tp+tn)/(tp+fp+tn+fn),4)))\n",
    "print('Misclassification rate: {}'.format(round((fp+fn)/(tp+fp+tn+fn),4)))\n",
    "print('Precision: {}'.format(round(tp/(tp+fp),4)))\n",
    "print('Recall: {}'.format(round(tp/(tp+fn),4)))\n",
    "print('Specificity: {}'.format(round(tn/(tn+fp),4)))"
   ]
  },
  {
   "cell_type": "markdown",
   "id": "4966b1c9",
   "metadata": {},
   "source": [
    "When we compare two models, it seems that logistic regression model performs better than random forest model. \n",
    "\n",
    "In the logistic regression model:\n",
    "- The model correctly predicts 83.39% of observations.\n",
    "- From all posts that the model predicted to be in r/seattle, we have 86.67% of them correctly classified.\n",
    "- From all posts that are in r/seattle, we have 77.73% of them correctly classified.\n",
    "- From all posts that are in r/boston, we have 89.41% of them correctly classified."
   ]
  },
  {
   "cell_type": "markdown",
   "id": "7ee0503f",
   "metadata": {},
   "source": [
    "## Conclusion and Recommendations"
   ]
  },
  {
   "cell_type": "markdown",
   "id": "e425f710",
   "metadata": {},
   "source": [
    "Our logistic regression model performed well with an accuracy score of 83.39%. The random forest model works equally with score of 82.77%.\n",
    "\n",
    "Sentiment analysis shows that the comments in r/seattle are slightly positive overall than r/boston. However, we can't conclude which city is better before doing further research.\n",
    "\n",
    "Future improvements:\n",
    " - Choose significantly different subreddits may improve the model.\n",
    " - Collect more data sample. Split data in an appropriate way.\n",
    " - Include lemmatization, stemming and spell checks to have cleaned post texts.\n",
    " \n",
    " "
   ]
  }
 ],
 "metadata": {
  "kernelspec": {
   "display_name": "Python 3",
   "language": "python",
   "name": "python3"
  },
  "language_info": {
   "codemirror_mode": {
    "name": "ipython",
    "version": 3
   },
   "file_extension": ".py",
   "mimetype": "text/x-python",
   "name": "python",
   "nbconvert_exporter": "python",
   "pygments_lexer": "ipython3",
   "version": "3.8.8"
  }
 },
 "nbformat": 4,
 "nbformat_minor": 5
}
